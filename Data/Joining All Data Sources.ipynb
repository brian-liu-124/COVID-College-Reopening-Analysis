{
 "cells": [
  {
   "cell_type": "code",
   "execution_count": 1,
   "metadata": {},
   "outputs": [
    {
     "name": "stderr",
     "output_type": "stream",
     "text": [
      "The sklearn.metrics.scorer module is  deprecated in version 0.22 and will be removed in version 0.24. The corresponding classes / functions should instead be imported from sklearn.metrics. Anything that cannot be imported from sklearn.metrics is now part of the private API.\n",
      "The sklearn.feature_selection.base module is  deprecated in version 0.22 and will be removed in version 0.24. The corresponding classes / functions should instead be imported from sklearn.feature_selection. Anything that cannot be imported from sklearn.feature_selection is now part of the private API.\n",
      "Using TensorFlow backend.\n"
     ]
    }
   ],
   "source": [
    "import numpy as np\n",
    "import pandas as pd\n",
    "import matplotlib.pyplot as plt\n",
    "import seaborn as sns\n",
    "import scipy.stats as sc\n",
    "import shap\n",
    "import lime\n",
    "import sklearn \n",
    "import warnings\n",
    "import xgboost\n",
    "import multiprocessing as mp\n",
    "import time\n",
    "import pickle \n",
    "import interpret\n",
    "import collections\n",
    "import math\n",
    "import random\n",
    "\n",
    "from sklearn.ensemble import AdaBoostRegressor\n",
    "%matplotlib inline\n",
    "import os, sys\n",
    "#import statsmodels.api as sm\n",
    "sys.path.append(os.path.abspath(\"../../../\"))\n",
    "\n",
    "pd.set_option('display.max_columns', None)\n",
    "import eli5\n",
    "from eli5.sklearn import PermutationImportance\n",
    "import statsmodels.api as sm\n"
   ]
  },
  {
   "cell_type": "code",
   "execution_count": 38,
   "metadata": {},
   "outputs": [],
   "source": [
    "# Load Data\n",
    "reopening_data = pd.read_csv('iped_reopen.csv')\n",
    "college_cases = pd.read_csv('https://raw.githubusercontent.com/nytimes/covid-19-data/master/colleges/colleges.csv')\n",
    "reopening_status = pd.read_csv('ReopeningStatusFinal.csv')\n",
    "demographics = pd.read_csv('demographic_data_county.csv')\n",
    "college_details = pd.read_csv('College Details.csv')\n",
    "politics = pd.read_csv('politics_county.csv')\n",
    "testing_plans = pd.read_csv('college_testing_plans.csv')\n",
    "device_counts = pd.read_csv('college_cbg_device_counts.csv')\n",
    "\n",
    "reopening_data.drop('Unnamed: 0',axis = 1,inplace = True)\n",
    "college_cases = college_cases[~college_cases['ipeds_id'].isnull()]\n",
    "college_cases['ipeds_id'] = college_cases['ipeds_id'].astype(int)\n",
    "reopening_status.drop('Unnamed: 0',axis = 1 ,inplace = True)\n",
    "reopening_data['pct_decrease'] = -(reopening_data['visits_by_day_2020'] -reopening_data['visits_by_day_2019'])/reopening_data['visits_by_day_2019']\n",
    "\n",
    "college_data = pd.merge(reopening_data,college_cases,left_on = 'unitid',right_on = 'ipeds_id',how = 'left')\n",
    "college_data['normalized_cases_college'] = college_data['cases']/college_data['enrtot']*1000\n",
    "college_data = college_data[['unitid','instnm','enrtot','pct_decrease','normalized_cases_college','state_abbrev']]\n",
    "\n",
    "demo_to_select = ['FIPS','State','ratio_population_enrolled-','Rural-urban_Continuum Code_2013','normalized_cases_prior_start','Median_Household_Income_2018','Unemployment_rate_2018']\n",
    "demo_merge = demographics[demo_to_select]\n",
    "percent_gop = politics[['combined_fips','per_gop']]\n",
    "\n",
    "testing_plans_merge = testing_plans[['institution','testing','testing_type','test_recurring','test_freq','test_pool']]\n",
    "device_counts.drop(['Unnamed: 0','inst_name'],axis = 1, inplace = True)\n",
    "\n",
    "\n",
    "all_data = pd.merge(reopening_status,college_data,left_on = 'UnitID', right_on = 'unitid')\n",
    "all_data.drop(['instnm','unitid'],axis = 1,inplace = True)\n",
    "all_data = all_data[all_data['pct_decrease']<= 2]\n",
    "all_data = all_data[all_data['pct_decrease']>= -2]\n",
    "all_data = all_data.rename({\"pct_decrease\":'pct_decrease_oncampus'})\n",
    "\n",
    "all_data = pd.merge(all_data,demo_merge,on = 'FIPS', how = 'left')\n",
    "all_data = pd.merge(all_data, percent_gop, left_on = 'FIPS', right_on = 'combined_fips')\n",
    "all_data = pd.merge(all_data,device_counts,left_on = 'UnitID',right_on = 'unitid', how = 'left' )\n",
    "all_data = pd.merge(all_data,testing_plans_merge,left_on = 'Institution Name', right_on = 'institution',how = 'left')\n",
    "all_data.to_csv('college_FA2020_details.csv')\n"
   ]
  },
  {
   "cell_type": "code",
   "execution_count": null,
   "metadata": {},
   "outputs": [],
   "source": []
  }
 ],
 "metadata": {
  "kernelspec": {
   "display_name": "Python 3",
   "language": "python",
   "name": "python3"
  },
  "language_info": {
   "codemirror_mode": {
    "name": "ipython",
    "version": 3
   },
   "file_extension": ".py",
   "mimetype": "text/x-python",
   "name": "python",
   "nbconvert_exporter": "python",
   "pygments_lexer": "ipython3",
   "version": "3.7.4"
  }
 },
 "nbformat": 4,
 "nbformat_minor": 4
}
